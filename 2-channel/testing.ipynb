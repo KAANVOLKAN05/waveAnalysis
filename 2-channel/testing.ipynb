{
 "cells": [
  {
   "cell_type": "code",
   "execution_count": null,
   "metadata": {},
   "outputs": [],
   "source": [
    "from standard_gui import StandardGUI\n",
    "\n",
    "sg = StandardGUI()\n",
    "sg.mainloop()"
   ]
  },
  {
   "cell_type": "code",
   "execution_count": 13,
   "metadata": {},
   "outputs": [
    {
     "data": {
      "text/plain": [
       "{'blah.tif': ['blah', 'blah'], 'foo.tif': ['foo'], 'bar.tif': ['bar']}"
      ]
     },
     "execution_count": 13,
     "metadata": {},
     "output_type": "execute_result"
    }
   ],
   "source": [
    "\n",
    "groupNames = ['blah', 'foo', 'bar', 'blah']\n",
    "fileNames = ['blah.tif', 'foo.tif', 'bar.tif', 'blah.tif']\n",
    "uniqueDic = {file for file in fileNames}                              # dict of file names and their matches\n",
    "for file in fileNames:                      # check each file\n",
    "    uniqueDic[file] = []                    # assign it an empty string\n",
    "    for group in groupNames:                # check each group\n",
    "        if group in file:                   # if there's a match...\n",
    "            uniqueDic[file].append(group)   # ... add it to the list\n",
    "\n",
    "uniqueDic"
   ]
  },
  {
   "cell_type": "code",
   "execution_count": 18,
   "metadata": {},
   "outputs": [
    {
     "data": {
      "text/plain": [
       "{'blah.tif': ['blah', 'blah'], 'foo.tif': ['foo'], 'bar.tif': ['bar']}"
      ]
     },
     "execution_count": 18,
     "metadata": {},
     "output_type": "execute_result"
    }
   ],
   "source": [
    "groupNames = ['blah', 'foo', 'bar', 'blah']\n",
    "fileNames = ['blah.tif', 'foo.tif', 'bar.tif', 'blah.tif']\n",
    "uniqueDic = {file : [group for group in groupNames if group in file] for file in fileNames}                              # dict of file names and their matches\n",
    "uniqueDic\n",
    "\n"
   ]
  },
  {
   "cell_type": "code",
   "execution_count": 22,
   "metadata": {},
   "outputs": [
    {
     "data": {
      "text/plain": [
       "'blah.food'"
      ]
     },
     "execution_count": 22,
     "metadata": {},
     "output_type": "execute_result"
    }
   ],
   "source": [
    "\n",
    "name = 'blah.food.tif'\n",
    "\n",
    "nameWithoutExtension = name.rsplit(\".\",1)[0]\n",
    "nameWithoutExtension"
   ]
  },
  {
   "cell_type": "code",
   "execution_count": 34,
   "metadata": {},
   "outputs": [
    {
     "name": "stdout",
     "output_type": "stream",
     "text": [
      "**************************************************\n",
      "(50, 2, 256, 512)\n",
      "2 1 50\n",
      "(50, 1, 2, 256, 512)\n",
      "**************************************************\n",
      "(155, 512, 512)\n",
      "1 1 155\n",
      "(155, 1, 1, 512, 512)\n",
      "**************************************************\n",
      "(155, 7, 512, 512)\n",
      "1 7 155\n",
      "(155, 7, 1, 512, 512)\n",
      "**************************************************\n",
      "(50, 4, 2, 256, 512)\n",
      "2 4 50\n",
      "(50, 4, 2, 256, 512)\n"
     ]
    }
   ],
   "source": [
    "from tifffile import imread, TiffFile\n",
    "\n",
    "# 2-channel\n",
    "fpath = '/Volumes/FlashSSD/220303_Live_Flvw_Ocyte_mVenus_ssra_CAAX_mChr-pGBD_iRFP-Utch/220303_Live_Flvw_Ocyte_mVenus_ssra_CAAX_mChr-pGBD_iRFP-Utch_E01_T01_Max.tif'\n",
    "print('*****'*10)\n",
    "\n",
    "im = imread(fpath)\n",
    "print(im.shape)\n",
    "\n",
    "with TiffFile(fpath) as tif:\n",
    "    md = tif.imagej_metadata\n",
    "n_c = md.get('channels', 1)\n",
    "n_z = md.get('slices', 1)\n",
    "n_t = md.get('frames', 1)\n",
    "\n",
    "print(n_c, n_z, n_t)\n",
    "im = im.reshape(n_t, n_z, n_c, im.shape[-2], im.shape[-1])\n",
    "print(im.shape)\n",
    "\n",
    "# 1-channel\n",
    "fpath = '/Volumes/FlashSSD/210921_Live_SFC_Ocyte_mScI-Utr/210921_Live_SFC_Ocyte_mScI-Utr_E01-T01_Max.tif'\n",
    "print('*****'*10)\n",
    "\n",
    "im = imread(fpath)\n",
    "print(im.shape)\n",
    "\n",
    "with TiffFile(fpath) as tif:\n",
    "    md = tif.imagej_metadata\n",
    "n_c = md.get('channels', 1)\n",
    "n_z = md.get('slices', 1)\n",
    "n_t = md.get('frames', 1)\n",
    "\n",
    "print(n_c, n_z, n_t)\n",
    "im = im.reshape(n_t, n_z, n_c, im.shape[-2], im.shape[-1])\n",
    "print(im.shape)\n",
    "\n",
    "# 1-channel hyperstack\n",
    "fpath = '/Volumes/FlashSSD/210921_Live_SFC_Ocyte_mScI-Utr/210921_Live_SFC_Ocyte_mScI-Utr_E01-T01.tif'\n",
    "print('*****'*10)\n",
    "\n",
    "im = imread(fpath)\n",
    "print(im.shape)\n",
    "\n",
    "with TiffFile(fpath) as tif:\n",
    "    md = tif.imagej_metadata\n",
    "n_c = md.get('channels', 1)\n",
    "n_z = md.get('slices', 1)\n",
    "n_t = md.get('frames', 1)\n",
    "\n",
    "print(n_c, n_z, n_t)\n",
    "im = im.reshape(n_t, n_z, n_c, im.shape[-2], im.shape[-1])\n",
    "print(im.shape)\n",
    "\n",
    "# 2-channel hyperstack\n",
    "fpath = '/Volumes/FlashSSD/220302_Live_Flvw_Aegg_SsrA-mV-CAAX_mCh-pGBD_Itsn1-SspB/220302_Live_Flvw_Aegg_SsrA-mV-CAAX_mCh-pGBD_Itsn1-SspB-High_E02-T01.tif'\n",
    "print('*****'*10)\n",
    "\n",
    "im = imread(fpath)\n",
    "print(im.shape)\n",
    "\n",
    "with TiffFile(fpath) as tif:\n",
    "    md = tif.imagej_metadata\n",
    "n_c = md.get('channels', 1)\n",
    "n_z = md.get('slices', 1)\n",
    "n_t = md.get('frames', 1)\n",
    "\n",
    "print(n_c, n_z, n_t)\n",
    "im = im.reshape(n_t, n_z, n_c, im.shape[-2], im.shape[-1])\n",
    "print(im.shape)"
   ]
  },
  {
   "cell_type": "code",
   "execution_count": 36,
   "metadata": {},
   "outputs": [
    {
     "name": "stdout",
     "output_type": "stream",
     "text": [
      "image shape is (51, 2, 71, 71)\n",
      "{'ImageJ': '1.53m', 'images': 102, 'channels': 2, 'frames': 51, 'hyperstack': True, 'mode': 'composite', 'unit': '\\\\u00B5m', 'finterval': 6.5, 'spacing': 0.8, 'loop': False, 'min': 62.0, 'max': 619.0, 'Ranges': (62.078034682080926, 619.9653179190751, 40.028985507246375, 437.463768115942), 'LUTs': [array([[  0,   0,   0,   0,   0,   0,   0,   0,   0,   0,   0,   0,   0,\n",
      "          0,   0,   0,   0,   0,   0,   0,   0,   0,   0,   0,   0,   0,\n",
      "          0,   0,   0,   0,   0,   0,   0,   0,   0,   0,   0,   0,   0,\n",
      "          0,   0,   0,   0,   0,   0,   0,   0,   0,   0,   0,   0,   0,\n",
      "          0,   0,   0,   0,   0,   0,   0,   0,   0,   0,   0,   0,   0,\n",
      "          0,   0,   0,   0,   0,   0,   0,   0,   0,   0,   0,   0,   0,\n",
      "          0,   0,   0,   0,   0,   0,   0,   0,   0,   0,   0,   0,   0,\n",
      "          0,   0,   0,   0,   0,   0,   0,   0,   0,   0,   0,   0,   0,\n",
      "          0,   0,   0,   0,   0,   0,   0,   0,   0,   0,   0,   0,   0,\n",
      "          0,   0,   0,   0,   0,   0,   0,   0,   0,   0,   0,   0,   0,\n",
      "          0,   0,   0,   0,   0,   0,   0,   0,   0,   0,   0,   0,   0,\n",
      "          0,   0,   0,   0,   0,   0,   0,   0,   0,   0,   0,   0,   0,\n",
      "          0,   0,   0,   0,   0,   0,   0,   0,   0,   0,   0,   0,   0,\n",
      "          0,   0,   0,   0,   0,   0,   0,   0,   0,   0,   0,   0,   0,\n",
      "          0,   0,   0,   0,   0,   0,   0,   0,   0,   0,   0,   0,   0,\n",
      "          0,   0,   0,   0,   0,   0,   0,   0,   0,   0,   0,   0,   0,\n",
      "          0,   0,   0,   0,   0,   0,   0,   0,   0,   0,   0,   0,   0,\n",
      "          0,   0,   0,   0,   0,   0,   0,   0,   0,   0,   0,   0,   0,\n",
      "          0,   0,   0,   0,   0,   0,   0,   0,   0,   0,   0,   0,   0,\n",
      "          0,   0,   0,   0,   0,   0,   0,   0,   0],\n",
      "       [  0,   1,   1,   2,   3,   3,   4,   5,   6,   6,   7,   8,   8,\n",
      "          9,  10,  10,  11,  12,  12,  13,  14,  15,  15,  16,  17,  17,\n",
      "         18,  19,  19,  20,  21,  21,  22,  23,  24,  24,  25,  26,  26,\n",
      "         27,  28,  28,  29,  30,  30,  31,  32,  33,  33,  34,  35,  35,\n",
      "         36,  37,  37,  38,  39,  40,  40,  41,  42,  42,  43,  44,  44,\n",
      "         45,  46,  47,  47,  48,  49,  49,  50,  51,  52,  52,  53,  54,\n",
      "         54,  55,  56,  57,  57,  58,  59,  59,  60,  61,  62,  62,  63,\n",
      "         64,  64,  65,  66,  67,  67,  68,  69,  69,  70,  71,  72,  72,\n",
      "         73,  74,  75,  75,  76,  77,  77,  78,  79,  80,  80,  81,  82,\n",
      "         83,  83,  84,  85,  86,  86,  87,  88,  89,  89,  89,  90,  91,\n",
      "         91,  92,  93,  94,  94,  95,  96,  97,  97,  98,  99, 100, 101,\n",
      "        101, 102, 103, 104, 104, 105, 106, 107, 107, 108, 109, 110, 110,\n",
      "        111, 112, 113, 113, 114, 115, 116, 117, 117, 118, 119, 120, 120,\n",
      "        121, 122, 123, 124, 124, 125, 126, 127, 127, 128, 129, 130, 131,\n",
      "        131, 132, 133, 134, 134, 135, 136, 137, 138, 138, 139, 140, 141,\n",
      "        141, 142, 143, 144, 145, 145, 146, 147, 148, 149, 149, 150, 151,\n",
      "        152, 153, 153, 154, 155, 156, 157, 157, 158, 159, 160, 160, 161,\n",
      "        162, 163, 164, 164, 165, 166, 167, 168, 168, 169, 170, 171, 172,\n",
      "        172, 173, 174, 175, 176, 176, 177, 178, 179, 180, 180, 181, 182,\n",
      "        183, 184, 184, 185, 186, 187, 188, 188, 188],\n",
      "       [  0,   2,   3,   5,   6,   8,  10,  11,  13,  15,  16,  18,  19,\n",
      "         21,  23,  24,  26,  28,  29,  31,  32,  34,  36,  37,  39,  40,\n",
      "         42,  44,  45,  47,  48,  50,  52,  53,  55,  56,  58,  59,  61,\n",
      "         63,  64,  66,  67,  69,  70,  72,  73,  75,  77,  78,  80,  81,\n",
      "         83,  84,  86,  87,  89,  90,  92,  93,  95,  96,  98,  99, 101,\n",
      "        102, 104, 105, 106, 108, 109, 111, 112, 114, 115, 116, 118, 119,\n",
      "        121, 122, 123, 125, 126, 127, 129, 130, 132, 133, 134, 136, 137,\n",
      "        138, 139, 141, 142, 143, 145, 146, 147, 148, 150, 151, 152, 153,\n",
      "        154, 156, 157, 158, 159, 160, 162, 163, 164, 165, 166, 167, 168,\n",
      "        169, 171, 172, 173, 174, 175, 176, 177, 178, 179, 180, 180, 181,\n",
      "        182, 183, 184, 185, 186, 187, 188, 189, 190, 190, 191, 192, 193,\n",
      "        194, 195, 196, 197, 197, 198, 199, 200, 201, 201, 202, 203, 204,\n",
      "        205, 205, 206, 207, 208, 208, 209, 210, 210, 211, 212, 212, 213,\n",
      "        214, 214, 215, 216, 216, 217, 218, 218, 219, 220, 220, 221, 221,\n",
      "        222, 223, 223, 224, 224, 225, 225, 226, 226, 227, 228, 228, 229,\n",
      "        229, 230, 230, 231, 231, 232, 232, 233, 233, 234, 234, 235, 235,\n",
      "        235, 236, 236, 237, 237, 238, 238, 239, 239, 240, 240, 240, 241,\n",
      "        241, 242, 242, 243, 243, 243, 244, 244, 245, 245, 245, 246, 246,\n",
      "        247, 247, 247, 248, 248, 249, 249, 249, 250, 250, 250, 251, 251,\n",
      "        252, 252, 252, 253, 253, 253, 254, 254, 254]], dtype=uint8), array([[  0,   1,   2,   2,   3,   4,   5,   5,   6,   7,   8,   8,   9,\n",
      "         10,  11,  12,  13,  13,  14,  15,  16,  17,  18,  19,  20,  21,\n",
      "         22,  22,  23,  24,  25,  27,  28,  29,  30,  31,  32,  33,  34,\n",
      "         36,  37,  38,  39,  41,  42,  43,  45,  46,  48,  49,  51,  52,\n",
      "         54,  55,  57,  59,  60,  62,  64,  65,  67,  69,  71,  73,  75,\n",
      "         77,  79,  81,  83,  85,  88,  90,  92,  94,  97,  99, 101, 104,\n",
      "        106, 109, 111, 113, 116, 118, 121, 123, 126, 128, 131, 133, 136,\n",
      "        138, 141, 143, 146, 148, 151, 153, 156, 158, 161, 163, 166, 168,\n",
      "        171, 173, 175, 178, 180, 182, 185, 187, 189, 191, 194, 196, 198,\n",
      "        200, 202, 204, 206, 208, 210, 212, 213, 215, 217, 218, 220, 222,\n",
      "        223, 224, 226, 227, 228, 230, 231, 232, 233, 234, 235, 236, 237,\n",
      "        238, 239, 240, 240, 241, 242, 243, 243, 244, 244, 245, 245, 246,\n",
      "        246, 247, 247, 248, 248, 248, 248, 249, 249, 249, 249, 250, 250,\n",
      "        250, 250, 250, 250, 250, 250, 250, 250, 250, 250, 250, 250, 250,\n",
      "        250, 250, 250, 250, 250, 250, 250, 250, 250, 250, 250, 250, 250,\n",
      "        250, 250, 250, 250, 250, 250, 250, 250, 250, 250, 250, 250, 250,\n",
      "        250, 250, 250, 249, 249, 249, 249, 249, 249, 249, 249, 249, 249,\n",
      "        249, 249, 249, 249, 249, 249, 249, 249, 250, 250, 250, 250, 250,\n",
      "        250, 250, 250, 250, 250, 250, 250, 250, 250, 250, 250, 250, 250,\n",
      "        250, 250, 250, 250, 250, 250, 250, 250, 250],\n",
      "       [  0,   1,   1,   2,   2,   3,   3,   4,   4,   5,   6,   6,   7,\n",
      "          7,   8,   9,   9,  10,  10,  11,  11,  12,  13,  13,  14,  15,\n",
      "         15,  16,  16,  17,  18,  18,  19,  20,  20,  21,  22,  22,  23,\n",
      "         24,  25,  25,  26,  27,  28,  28,  29,  30,  31,  32,  32,  33,\n",
      "         34,  35,  36,  37,  37,  38,  39,  40,  41,  42,  43,  44,  45,\n",
      "         46,  47,  48,  49,  50,  51,  52,  53,  54,  56,  57,  58,  59,\n",
      "         60,  61,  62,  64,  65,  66,  67,  68,  70,  71,  72,  73,  75,\n",
      "         76,  77,  78,  80,  81,  82,  83,  85,  86,  87,  89,  90,  91,\n",
      "         93,  94,  95,  97,  98,  99, 101, 102, 103, 105, 106, 107, 109,\n",
      "        110, 112, 113, 114, 116, 117, 118, 120, 121, 122, 124, 125, 126,\n",
      "        128, 129, 130, 132, 133, 134, 136, 137, 138, 140, 141, 142, 143,\n",
      "        145, 146, 147, 149, 150, 151, 152, 154, 155, 156, 157, 159, 160,\n",
      "        161, 162, 163, 165, 166, 167, 168, 169, 171, 172, 173, 174, 175,\n",
      "        176, 177, 179, 180, 181, 182, 183, 184, 185, 186, 187, 188, 189,\n",
      "        190, 191, 192, 193, 194, 195, 196, 197, 198, 199, 200, 201, 202,\n",
      "        203, 204, 204, 205, 206, 207, 208, 209, 209, 210, 211, 212, 213,\n",
      "        213, 214, 215, 216, 216, 217, 218, 219, 219, 220, 221, 221, 222,\n",
      "        223, 223, 224, 225, 225, 226, 227, 227, 228, 229, 229, 230, 230,\n",
      "        231, 232, 232, 233, 234, 234, 235, 235, 236, 236, 237, 238, 238,\n",
      "        239, 239, 240, 241, 241, 242, 242, 243, 243],\n",
      "       [  0,   2,   4,   6,   8,  11,  13,  15,  17,  19,  21,  23,  25,\n",
      "         27,  29,  31,  33,  35,  37,  39,  41,  43,  45,  47,  49,  51,\n",
      "         52,  54,  56,  58,  59,  61,  63,  64,  66,  68,  69,  71,  72,\n",
      "         74,  75,  76,  78,  79,  80,  82,  83,  84,  85,  86,  87,  88,\n",
      "         89,  90,  91,  91,  92,  93,  93,  94,  94,  95,  95,  96,  96,\n",
      "         96,  96,  97,  97,  97,  97,  97,  96,  96,  96,  96,  95,  95,\n",
      "         95,  94,  94,  93,  93,  92,  92,  91,  90,  90,  89,  88,  87,\n",
      "         87,  86,  85,  84,  83,  82,  82,  81,  80,  79,  78,  77,  76,\n",
      "         75,  74,  73,  72,  71,  70,  70,  69,  68,  67,  66,  65,  64,\n",
      "         63,  62,  62,  61,  60,  59,  58,  58,  57,  56,  56,  55,  54,\n",
      "         54,  53,  53,  52,  52,  51,  51,  51,  50,  50,  50,  50,  49,\n",
      "         49,  49,  49,  49,  49,  49,  49,  49,  49,  49,  49,  49,  49,\n",
      "         50,  50,  50,  50,  51,  51,  51,  52,  52,  53,  53,  54,  54,\n",
      "         55,  55,  56,  57,  57,  58,  59,  59,  60,  61,  62,  63,  64,\n",
      "         65,  65,  66,  67,  68,  69,  70,  72,  73,  74,  75,  76,  77,\n",
      "         79,  80,  81,  83,  84,  85,  87,  88,  89,  91,  92,  94,  95,\n",
      "         97,  98, 100, 102, 103, 105, 106, 108, 110, 111, 113, 115, 116,\n",
      "        118, 120, 122, 124, 125, 127, 129, 131, 133, 134, 136, 138, 140,\n",
      "        142, 144, 146, 148, 150, 152, 153, 155, 157, 159, 161, 163, 165,\n",
      "        167, 169, 171, 173, 175, 177, 179, 181, 183]], dtype=uint8)]}\n"
     ]
    }
   ],
   "source": [
    "from tifffile import imread, imwrite, TiffFile\n",
    "\n",
    "im_path = '/Users/bementmbp/Desktop/Scripts/waveAnalysis/2-channel/testDatasets/1_Group1.tif'\n",
    "im = imread(im_path)\n",
    "print(f'image shape is {im.shape}')\n",
    "with TiffFile(im_path) as tif_file:\n",
    "    metadata = tif_file.imagej_metadata\n",
    "print(metadata)\n"
   ]
  },
  {
   "cell_type": "code",
   "execution_count": 39,
   "metadata": {},
   "outputs": [
    {
     "name": "stdout",
     "output_type": "stream",
     "text": [
      "empty\n"
     ]
    }
   ],
   "source": [
    "empty = {1}\n",
    "if bool(empty):\n",
    "    print('full')\n",
    "else:\n",
    "    print('empty')"
   ]
  },
  {
   "cell_type": "code",
   "execution_count": 41,
   "metadata": {},
   "outputs": [
    {
     "name": "stdout",
     "output_type": "stream",
     "text": [
      "group exists\n"
     ]
    }
   ],
   "source": [
    "group = 'blah'\n",
    "\n",
    "if group:\n",
    "    print('group exists')"
   ]
  },
  {
   "cell_type": "code",
   "execution_count": 49,
   "metadata": {},
   "outputs": [
    {
     "ename": "ImportError",
     "evalue": "cannot import name 'SignalProcessor' from 'signal_processing_class' (/Users/bementmbp/Desktop/Scripts/waveAnalysis/2-channel/signal_processing_class.py)",
     "output_type": "error",
     "traceback": [
      "\u001b[0;31m---------------------------------------------------------------------------\u001b[0m",
      "\u001b[0;31mImportError\u001b[0m                               Traceback (most recent call last)",
      "\u001b[1;32m/Users/bementmbp/Desktop/Scripts/waveAnalysis/2-channel/testing.ipynb Cell 9'\u001b[0m in \u001b[0;36m<cell line: 1>\u001b[0;34m()\u001b[0m\n\u001b[0;32m----> <a href='vscode-notebook-cell:/Users/bementmbp/Desktop/Scripts/waveAnalysis/2-channel/testing.ipynb#ch0000012?line=0'>1</a>\u001b[0m \u001b[39mfrom\u001b[39;00m \u001b[39msignal_processing_class\u001b[39;00m \u001b[39mimport\u001b[39;00m SignalProcessor\n\u001b[1;32m      <a href='vscode-notebook-cell:/Users/bementmbp/Desktop/Scripts/waveAnalysis/2-channel/testing.ipynb#ch0000012?line=1'>2</a>\u001b[0m get_ipython()\u001b[39m.\u001b[39mrun_line_magic(\u001b[39m'\u001b[39m\u001b[39mload_ext\u001b[39m\u001b[39m'\u001b[39m, \u001b[39m'\u001b[39m\u001b[39mautoreload\u001b[39m\u001b[39m'\u001b[39m)\n\u001b[1;32m      <a href='vscode-notebook-cell:/Users/bementmbp/Desktop/Scripts/waveAnalysis/2-channel/testing.ipynb#ch0000012?line=2'>3</a>\u001b[0m get_ipython()\u001b[39m.\u001b[39mrun_line_magic(\u001b[39m'\u001b[39m\u001b[39mautoreload\u001b[39m\u001b[39m'\u001b[39m, \u001b[39m'\u001b[39m\u001b[39m2\u001b[39m\u001b[39m'\u001b[39m)\n",
      "\u001b[0;31mImportError\u001b[0m: cannot import name 'SignalProcessor' from 'signal_processing_class' (/Users/bementmbp/Desktop/Scripts/waveAnalysis/2-channel/signal_processing_class.py)"
     ]
    }
   ],
   "source": [
    "from signal_processing_class import SignalProcessor\n",
    "%load_ext autoreload\n",
    "%autoreload 2\n",
    "\n",
    "\n",
    "im_path = '/Users/bementmbp/Desktop/Scripts/waveAnalysis/2-channel/testDatasets/1_Group1.tif'\n",
    "\n",
    "sp = SignalProcessor(image_path = im_path, box_size=20)\n",
    "print(sp.y_boxes)\n",
    "print(sp.x_boxes)\n",
    "print(sp.num_channels)\n",
    "\n",
    "print(sp.acf_results)\n",
    "print(sp.ccf_results)\n",
    "print(sp.peak_results)\n",
    "\n"
   ]
  },
  {
   "cell_type": "code",
   "execution_count": null,
   "metadata": {},
   "outputs": [],
   "source": []
  },
  {
   "cell_type": "code",
   "execution_count": null,
   "metadata": {},
   "outputs": [],
   "source": [
    ", data = [ch1_period_measurements, \n",
    "                                                                    ch2_period_measurements,\n",
    "                                                                    ch1_width_measurements,\n",
    "                                                                    ch2_width_measurements,\n",
    "                                                                    ch1_max_measurements,\n",
    "                                                                    ch2_max_measurements,\n",
    "                                                                    ch1_min_measurements,\n",
    "                                                                    ch2_min_measurements,\n",
    "                                                                    ch1_amp_measurements,\n",
    "                                                                    ch2_amp_measurements,\n",
    "                                                                    ch1_relAmp_measurements,\n",
    "                                                                    ch2_relAmp_measurements,\n",
    "                                                                    shift_measurements])"
   ]
  },
  {
   "cell_type": "code",
   "execution_count": null,
   "metadata": {},
   "outputs": [],
   "source": []
  },
  {
   "cell_type": "code",
   "execution_count": 60,
   "metadata": {},
   "outputs": [
    {
     "data": {
      "image/png": "[encoded data removed]",
      "text/plain": [
       "<Figure size 432x288 with 3 Axes>"
      ]
     },
     "metadata": {
      "needs_background": "light"
     },
     "output_type": "display_data"
    },
    {
     "data": {
      "image/png": "[encoded data removed]",
      "text/plain": [
       "<Figure size 432x288 with 3 Axes>"
      ]
     },
     "metadata": {
      "needs_background": "light"
     },
     "output_type": "display_data"
    }
   ],
   "source": [
    "import matplotlib.pyplot as plt\n",
    "mylist = []\n",
    "fig1, ax1 = plt.subplot_mosaic(mosaic = '''\n",
    "                                      AA\n",
    "                                      BC\n",
    "                                      '''  )\n",
    "\n",
    "fig2, ax2 = plt.subplot_mosaic(mosaic = '''\n",
    "                                      AA\n",
    "                                      BC\n",
    "                                      '''  )\n",
    "fig1.subplots_adjust(hspace=0.5)\n",
    "x = [1,2,3,4,5,6,7,8,9,10]\n",
    "y = [1,2,3,4,5,6,7,8,9,10]\n",
    "ax1['A'].plot(x, y)\n",
    "mylist.append(fig1)\n",
    "mylist.append(fig2)"
   ]
  },
  {
   "cell_type": "code",
   "execution_count": 59,
   "metadata": {},
   "outputs": [],
   "source": [
    "myfig = mylist[0]\n",
    "plt.show()"
   ]
  },
  {
   "cell_type": "code",
   "execution_count": null,
   "metadata": {},
   "outputs": [],
   "source": []
  }
 ],
 "metadata": {
  "interpreter": {
   "hash": "f7ec4263e4001474e72c70f185906f427acb5774367a2b2d09b308b8269b701b"
  },
  "kernelspec": {
   "display_name": "Python 3.9.12 ('image-analysis')",
   "language": "python",
   "name": "python3"
  },
  "language_info": {
   "codemirror_mode": {
    "name": "ipython",
    "version": 3
   },
   "file_extension": ".py",
   "mimetype": "text/x-python",
   "name": "python",
   "nbconvert_exporter": "python",
   "pygments_lexer": "ipython3",
   "version": "3.9.12"
  },
  "orig_nbformat": 4
 },
 "nbformat": 4,
 "nbformat_minor": 2
}
