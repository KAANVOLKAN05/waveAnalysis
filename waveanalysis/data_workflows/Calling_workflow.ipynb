{
 "cells": [
  {
   "cell_type": "code",
   "execution_count": 8,
   "id": "893242b9-263c-47e0-b1e2-5f7dabe0c38c",
   "metadata": {},
   "outputs": [
    {
     "ename": "TypeError",
     "evalue": "combined_workflow() got an unexpected keyword argument 'image_arrays'",
     "output_type": "error",
     "traceback": [
      "\u001b[1;31m---------------------------------------------------------------------------\u001b[0m",
      "\u001b[1;31mTypeError\u001b[0m                                 Traceback (most recent call last)",
      "Cell \u001b[1;32mIn[8], line 27\u001b[0m\n\u001b[0;32m     18\u001b[0m log_params \u001b[38;5;241m=\u001b[39m {\n\u001b[0;32m     19\u001b[0m     \u001b[38;5;124m'\u001b[39m\u001b[38;5;124mPixel Size\u001b[39m\u001b[38;5;124m'\u001b[39m:         [],\n\u001b[0;32m     20\u001b[0m     \u001b[38;5;124m'\u001b[39m\u001b[38;5;124mFrame Interval\u001b[39m\u001b[38;5;124m'\u001b[39m:     [],\n\u001b[1;32m   (...)\u001b[0m\n\u001b[0;32m     24\u001b[0m     \u001b[38;5;66;03m# 'Group Matches':    [],\u001b[39;00m\n\u001b[0;32m     25\u001b[0m }\n\u001b[0;32m     26\u001b[0m \u001b[38;5;66;03m# 4) Call the workflow:\u001b[39;00m\n\u001b[1;32m---> 27\u001b[0m summary_df \u001b[38;5;241m=\u001b[39m \u001b[43mcombined_workflow\u001b[49m\u001b[43m(\u001b[49m\n\u001b[0;32m     28\u001b[0m \u001b[43m    \u001b[49m\u001b[43mfolder_path\u001b[49m\u001b[38;5;241;43m=\u001b[39;49m\u001b[38;5;124;43m'\u001b[39;49m\u001b[38;5;124;43mmichaud_simulation.npy\u001b[39;49m\u001b[38;5;124;43m'\u001b[39;49m\u001b[43m,\u001b[49m\u001b[43m              \u001b[49m\u001b[38;5;66;43;03m# still used for where to save figures/logs\u001b[39;49;00m\n\u001b[0;32m     29\u001b[0m \u001b[43m    \u001b[49m\u001b[43mgroup_names\u001b[49m\u001b[38;5;241;43m=\u001b[39;49m\u001b[43m[\u001b[49m\u001b[43m]\u001b[49m\u001b[43m,\u001b[49m\n\u001b[0;32m     30\u001b[0m \u001b[43m    \u001b[49m\u001b[43mlog_params\u001b[49m\u001b[38;5;241;43m=\u001b[39;49m\u001b[43mlog_params\u001b[49m\u001b[43m,\u001b[49m\n\u001b[0;32m     31\u001b[0m \u001b[43m    \u001b[49m\u001b[43manalysis_type\u001b[49m\u001b[38;5;241;43m=\u001b[39;49m\u001b[38;5;124;43m'\u001b[39;49m\u001b[38;5;124;43mstandard\u001b[39;49m\u001b[38;5;124;43m'\u001b[39;49m\u001b[43m,\u001b[49m\u001b[43m     \u001b[49m\u001b[38;5;66;43;03m# or 'kymograph'\u001b[39;49;00m\n\u001b[0;32m     32\u001b[0m \u001b[43m    \u001b[49m\u001b[43macf_peak_thresh\u001b[49m\u001b[38;5;241;43m=\u001b[39;49m\u001b[38;5;241;43m0.1\u001b[39;49m\u001b[43m,\u001b[49m\n\u001b[0;32m     33\u001b[0m \u001b[43m    \u001b[49m\u001b[43mplot_summary_ACFs\u001b[49m\u001b[38;5;241;43m=\u001b[39;49m\u001b[38;5;28;43;01mTrue\u001b[39;49;00m\u001b[43m,\u001b[49m\n\u001b[0;32m     34\u001b[0m \u001b[43m    \u001b[49m\u001b[43mplot_summary_CCFs\u001b[49m\u001b[38;5;241;43m=\u001b[39;49m\u001b[38;5;28;43;01mFalse\u001b[39;49;00m\u001b[43m,\u001b[49m\n\u001b[0;32m     35\u001b[0m \u001b[43m    \u001b[49m\u001b[43mplot_summary_peaks\u001b[49m\u001b[38;5;241;43m=\u001b[39;49m\u001b[38;5;28;43;01mFalse\u001b[39;49;00m\u001b[43m,\u001b[49m\n\u001b[0;32m     36\u001b[0m \u001b[43m    \u001b[49m\u001b[43mplot_indv_ACFs\u001b[49m\u001b[38;5;241;43m=\u001b[39;49m\u001b[38;5;28;43;01mFalse\u001b[39;49;00m\u001b[43m,\u001b[49m\n\u001b[0;32m     37\u001b[0m \u001b[43m    \u001b[49m\u001b[43mplot_indv_CCFs\u001b[49m\u001b[38;5;241;43m=\u001b[39;49m\u001b[38;5;28;43;01mFalse\u001b[39;49;00m\u001b[43m,\u001b[49m\n\u001b[0;32m     38\u001b[0m \u001b[43m    \u001b[49m\u001b[43mplot_indv_peaks\u001b[49m\u001b[38;5;241;43m=\u001b[39;49m\u001b[38;5;28;43;01mFalse\u001b[39;49;00m\u001b[43m,\u001b[49m\n\u001b[0;32m     39\u001b[0m \u001b[43m    \u001b[49m\u001b[43mcalc_wave_speeds\u001b[49m\u001b[38;5;241;43m=\u001b[39;49m\u001b[38;5;28;43;01mFalse\u001b[39;49;00m\u001b[43m,\u001b[49m\n\u001b[0;32m     40\u001b[0m \u001b[43m    \u001b[49m\u001b[43mplot_wave_speeds\u001b[49m\u001b[38;5;241;43m=\u001b[39;49m\u001b[38;5;28;43;01mFalse\u001b[39;49;00m\u001b[43m,\u001b[49m\n\u001b[0;32m     41\u001b[0m \u001b[43m    \u001b[49m\u001b[43mbox_size\u001b[49m\u001b[38;5;241;43m=\u001b[39;49m\u001b[38;5;241;43m20\u001b[39;49m\u001b[43m,\u001b[49m\n\u001b[0;32m     42\u001b[0m \u001b[43m    \u001b[49m\u001b[43mbin_shift\u001b[49m\u001b[38;5;241;43m=\u001b[39;49m\u001b[38;5;241;43m2\u001b[39;49m\u001b[43m,\u001b[49m\n\u001b[0;32m     43\u001b[0m \u001b[43m    \u001b[49m\u001b[43mline_width\u001b[49m\u001b[38;5;241;43m=\u001b[39;49m\u001b[38;5;28;43;01mNone\u001b[39;49;00m\u001b[43m,\u001b[49m\n\u001b[0;32m     44\u001b[0m \u001b[43m    \u001b[49m\u001b[43mtest\u001b[49m\u001b[38;5;241;43m=\u001b[39;49m\u001b[38;5;28;43;01mFalse\u001b[39;49;00m\u001b[43m,\u001b[49m\n\u001b[0;32m     45\u001b[0m \u001b[43m    \u001b[49m\u001b[43mimage_arrays\u001b[49m\u001b[38;5;241;43m=\u001b[39;49m\u001b[43mimage_arrays\u001b[49m\u001b[43m \u001b[49m\u001b[38;5;129;43;01mor\u001b[39;49;00m\u001b[43m \u001b[49m\u001b[43m{\u001b[49m\u001b[43m}\u001b[49m\u001b[43m,\u001b[49m\n\u001b[0;32m     46\u001b[0m \u001b[43m    \u001b[49m\u001b[43mimage_metadata\u001b[49m\u001b[38;5;241;43m=\u001b[39;49m\u001b[43mimage_metadata\u001b[49m\u001b[43m \u001b[49m\u001b[38;5;129;43;01mor\u001b[39;49;00m\u001b[43m \u001b[49m\u001b[43m{\u001b[49m\u001b[43m}\u001b[49m\n\u001b[0;32m     47\u001b[0m \u001b[43m)\u001b[49m\n\u001b[0;32m     49\u001b[0m \u001b[38;5;28mprint\u001b[39m(summary_df)\n",
      "\u001b[1;31mTypeError\u001b[0m: combined_workflow() got an unexpected keyword argument 'image_arrays'"
     ]
    }
   ],
   "source": [
    "import numpy as np\n",
    "from combined_workflow_new import combined_workflow\n",
    "\n",
    "# 1) Prepare your in-memory data:\n",
    "#    Keys should be the “file_name” strings your groups/logs will refer to.\n",
    "image_arrays = {\n",
    "    'movieA': np.load('michaud_simulation.npy'),   # shape (T, H, W) or (T, C, H, W)\n",
    "}\n",
    "\n",
    "# 2) Metadata must supply at least pixel_size, pixel_unit, frame_interval\n",
    "image_metadata = {\n",
    "    'movieA': {\n",
    "        'pixel_size':    0.01,       # e.g. microns per pixel\n",
    "        'pixel_unit':    'µm',\n",
    "        'frame_interval': 0.01,       # seconds between frames\n",
    "    }\n",
    "}\n",
    "log_params = {\n",
    "    'Pixel Size':         [],\n",
    "    'Frame Interval':     [],\n",
    "    'Files Not Processed': [],\n",
    "    'Errors':             [],\n",
    "    # add more keys here if you like:\n",
    "    # 'Group Matches':    [],\n",
    "}\n",
    "# 4) Call the workflow:\n",
    "summary_df = combined_workflow(\n",
    "    folder_path='michaud_simulation.npy',              # still used for where to save figures/logs\n",
    "    group_names=[],\n",
    "    log_params=log_params,\n",
    "    analysis_type='standard',     # or 'kymograph'\n",
    "    acf_peak_thresh=0.1,\n",
    "    plot_summary_ACFs=True,\n",
    "    plot_summary_CCFs=False,\n",
    "    plot_summary_peaks=False,\n",
    "    plot_indv_ACFs=False,\n",
    "    plot_indv_CCFs=False,\n",
    "    plot_indv_peaks=False,\n",
    "    calc_wave_speeds=False,\n",
    "    plot_wave_speeds=False,\n",
    "    box_size=20,\n",
    "    bin_shift=2,\n",
    "    line_width=None,\n",
    "    test=False,\n",
    "    image_arrays=image_arrays or {},\n",
    "    image_metadata=image_metadata or {}\n",
    ")\n",
    "\n",
    "print(summary_df)\n"
   ]
  },
  {
   "cell_type": "code",
   "execution_count": 1,
   "id": "3302da3a-d9f8-47b7-a4cd-209cb399aa35",
   "metadata": {},
   "outputs": [
    {
     "ename": "SyntaxError",
     "evalue": "positional argument follows keyword argument (525616383.py, line 45)",
     "output_type": "error",
     "traceback": [
      "\u001b[1;36m  Cell \u001b[1;32mIn[1], line 45\u001b[1;36m\u001b[0m\n\u001b[1;33m    image_arrays: dict[str, np.ndarray] = None,\u001b[0m\n\u001b[1;37m                ^\u001b[0m\n\u001b[1;31mSyntaxError\u001b[0m\u001b[1;31m:\u001b[0m positional argument follows keyword argument\n"
     ]
    }
   ],
   "source": [
    "import numpy as np\n",
    "from combined_workflow_new import combined_workflow\n",
    "\n",
    "# 1) Prepare your in-memory data:\n",
    "#    Keys should be the “file_name” strings your groups/logs will refer to.\n",
    "image_arrays = {\n",
    "    'movieA': np.load('michaud_simulation.npy'),   # shape (T, H, W) or (T, C, H, W)\n",
    "}\n",
    "\n",
    "# 2) Metadata must supply at least pixel_size, pixel_unit, frame_interval\n",
    "image_metadata = {\n",
    "    'movieA': {\n",
    "        'pixel_size':    0.01,       # e.g. microns per pixel\n",
    "        'pixel_unit':    'µm',\n",
    "        'frame_interval': 0.01,       # seconds between frames\n",
    "    }\n",
    "}\n",
    "log_params = {\n",
    "    'Pixel Size':         [],\n",
    "    'Frame Interval':     [],\n",
    "    'Files Not Processed': [],\n",
    "    'Errors':             [],\n",
    "    # add more keys here if you like:\n",
    "    # 'Group Matches':    [],\n",
    "}\n",
    "# 4) Call the workflow:\n",
    "summary_df = combined_workflow(\n",
    "    folder_path='michaud_simulation.npy',              # still used for where to save figures/logs\n",
    "    group_names=[],\n",
    "    log_params=log_params,\n",
    "    analysis_type='standard',     # or 'kymograph'\n",
    "    acf_peak_thresh=0.1,\n",
    "    plot_summary_ACFs=True,\n",
    "    plot_summary_CCFs=False,\n",
    "    plot_summary_peaks=False,\n",
    "    plot_indv_ACFs=False,\n",
    "    plot_indv_CCFs=False,\n",
    "    plot_indv_peaks=False,\n",
    "    calc_wave_speeds=False,\n",
    "    plot_wave_speeds=False,\n",
    "    box_size=20,\n",
    "    bin_shift=2,\n",
    "    line_width=None,\n",
    "    test=False,\n",
    "    image_arrays: dict[str, np.ndarray] = None,\n",
    "    image_metadata: dict[str, dict] = None,\n",
    ")\n",
    "\n",
    "print(summary_df)\n"
   ]
  },
  {
   "cell_type": "code",
   "execution_count": 6,
   "id": "1ac1f969-9526-416f-ac46-3c4f61d224c1",
   "metadata": {},
   "outputs": [
    {
     "name": "stdout",
     "output_type": "stream",
     "text": [
      "Processing files\n"
     ]
    },
    {
     "name": "stderr",
     "output_type": "stream",
     "text": [
      "Files processed::   0%|                                                                          | 0/1 [00:00<?, ?it/s]"
     ]
    },
    {
     "name": "stdout",
     "output_type": "stream",
     "text": [
      "************************************************************\n",
      "Processing movieA\n",
      "ERROR: movieA has only 4 frames; need ≥11.\n"
     ]
    },
    {
     "name": "stderr",
     "output_type": "stream",
     "text": [
      "\n"
     ]
    },
    {
     "ename": "KeyError",
     "evalue": "'File Name'",
     "output_type": "error",
     "traceback": [
      "\u001b[1;31m---------------------------------------------------------------------------\u001b[0m",
      "\u001b[1;31mKeyError\u001b[0m                                  Traceback (most recent call last)",
      "\u001b[1;32m~\\AppData\\Local\\Temp\\ipykernel_44904\\3045185062.py\u001b[0m in \u001b[0;36m?\u001b[1;34m()\u001b[0m\n\u001b[1;32m---> 40\u001b[1;33m \u001b[1;31m# ----------------------------------------\u001b[0m\u001b[1;33m\u001b[0m\u001b[1;33m\u001b[0m\u001b[0m\n\u001b[0m\u001b[0;32m     41\u001b[0m \u001b[1;31m# 1) Imports\u001b[0m\u001b[1;33m\u001b[0m\u001b[1;33m\u001b[0m\u001b[0m\n\u001b[0;32m     42\u001b[0m \u001b[1;31m# ----------------------------------------\u001b[0m\u001b[1;33m\u001b[0m\u001b[1;33m\u001b[0m\u001b[0m\n\u001b[0;32m     43\u001b[0m \u001b[1;32mimport\u001b[0m \u001b[0mnumpy\u001b[0m \u001b[1;32mas\u001b[0m \u001b[0mnp\u001b[0m\u001b[1;33m\u001b[0m\u001b[1;33m\u001b[0m\u001b[0m\n",
      "\u001b[1;32m~\\OneDrive\\Desktop\\waveAnalysis\\waveanalysis\\data_workflows\\combined_workflow_new.py\u001b[0m in \u001b[0;36m?\u001b[1;34m(folder_path, group_names, log_params, analysis_type, acf_peak_thresh, plot_summary_ACFs, plot_summary_CCFs, plot_summary_peaks, plot_indv_ACFs, plot_indv_CCFs, plot_indv_peaks, calc_wave_speeds, plot_wave_speeds, box_size, bin_shift, line_width, test, image_arrays, image_metadata)\u001b[0m\n\u001b[0;32m    457\u001b[0m             \u001b[0mprint\u001b[0m\u001b[1;33m(\u001b[0m\u001b[1;34m'ERRORS WERE ENCOUNTERED DURING PROCESSING. PLEASE CHECK THE LOG FILE FOR MORE INFORMATION.'\u001b[0m\u001b[1;33m)\u001b[0m\u001b[1;33m\u001b[0m\u001b[1;33m\u001b[0m\u001b[0m\n\u001b[0;32m    458\u001b[0m             \u001b[0mprint\u001b[0m\u001b[1;33m(\u001b[0m\u001b[1;34m'*'\u001b[0m \u001b[1;33m*\u001b[0m \u001b[1;36m50\u001b[0m\u001b[1;33m)\u001b[0m\u001b[1;33m\u001b[0m\u001b[1;33m\u001b[0m\u001b[0m\n\u001b[0;32m    459\u001b[0m             \u001b[0mprint\u001b[0m\u001b[1;33m(\u001b[0m\u001b[1;34m'*'\u001b[0m \u001b[1;33m*\u001b[0m \u001b[1;36m50\u001b[0m\u001b[1;33m)\u001b[0m\u001b[1;33m\u001b[0m\u001b[1;33m\u001b[0m\u001b[0m\n\u001b[0;32m    460\u001b[0m \u001b[1;33m\u001b[0m\u001b[0m\n\u001b[1;32m--> 461\u001b[1;33m         \u001b[1;32mreturn\u001b[0m \u001b[0msummary_df\u001b[0m \u001b[1;31m# only here for testing\u001b[0m\u001b[1;33m\u001b[0m\u001b[1;33m\u001b[0m\u001b[0m\n\u001b[0m",
      "\u001b[1;32m~\\miniconda3\\envs\\myenv\\lib\\site-packages\\pandas\\util\\_decorators.py\u001b[0m in \u001b[0;36m?\u001b[1;34m(*args, **kwargs)\u001b[0m\n\u001b[0;32m    327\u001b[0m                     \u001b[0mmsg\u001b[0m\u001b[1;33m.\u001b[0m\u001b[0mformat\u001b[0m\u001b[1;33m(\u001b[0m\u001b[0marguments\u001b[0m\u001b[1;33m=\u001b[0m\u001b[0m_format_argument_list\u001b[0m\u001b[1;33m(\u001b[0m\u001b[0mallow_args\u001b[0m\u001b[1;33m)\u001b[0m\u001b[1;33m)\u001b[0m\u001b[1;33m,\u001b[0m\u001b[1;33m\u001b[0m\u001b[1;33m\u001b[0m\u001b[0m\n\u001b[0;32m    328\u001b[0m                     \u001b[0mFutureWarning\u001b[0m\u001b[1;33m,\u001b[0m\u001b[1;33m\u001b[0m\u001b[1;33m\u001b[0m\u001b[0m\n\u001b[0;32m    329\u001b[0m                     \u001b[0mstacklevel\u001b[0m\u001b[1;33m=\u001b[0m\u001b[0mfind_stack_level\u001b[0m\u001b[1;33m(\u001b[0m\u001b[1;33m)\u001b[0m\u001b[1;33m,\u001b[0m\u001b[1;33m\u001b[0m\u001b[1;33m\u001b[0m\u001b[0m\n\u001b[0;32m    330\u001b[0m                 )\n\u001b[1;32m--> 331\u001b[1;33m             \u001b[1;32mreturn\u001b[0m \u001b[0mfunc\u001b[0m\u001b[1;33m(\u001b[0m\u001b[1;33m*\u001b[0m\u001b[0margs\u001b[0m\u001b[1;33m,\u001b[0m \u001b[1;33m**\u001b[0m\u001b[0mkwargs\u001b[0m\u001b[1;33m)\u001b[0m\u001b[1;33m\u001b[0m\u001b[1;33m\u001b[0m\u001b[0m\n\u001b[0m",
      "\u001b[1;32m~\\miniconda3\\envs\\myenv\\lib\\site-packages\\pandas\\core\\frame.py\u001b[0m in \u001b[0;36m?\u001b[1;34m(self, by, axis, ascending, inplace, kind, na_position, ignore_index, key)\u001b[0m\n\u001b[0;32m   6908\u001b[0m         \u001b[1;32melif\u001b[0m \u001b[0mlen\u001b[0m\u001b[1;33m(\u001b[0m\u001b[0mby\u001b[0m\u001b[1;33m)\u001b[0m\u001b[1;33m:\u001b[0m\u001b[1;33m\u001b[0m\u001b[1;33m\u001b[0m\u001b[0m\n\u001b[0;32m   6909\u001b[0m             \u001b[1;31m# len(by) == 1\u001b[0m\u001b[1;33m\u001b[0m\u001b[1;33m\u001b[0m\u001b[0m\n\u001b[0;32m   6910\u001b[0m \u001b[1;33m\u001b[0m\u001b[0m\n\u001b[0;32m   6911\u001b[0m             \u001b[0mby\u001b[0m \u001b[1;33m=\u001b[0m \u001b[0mby\u001b[0m\u001b[1;33m[\u001b[0m\u001b[1;36m0\u001b[0m\u001b[1;33m]\u001b[0m\u001b[1;33m\u001b[0m\u001b[1;33m\u001b[0m\u001b[0m\n\u001b[1;32m-> 6912\u001b[1;33m             \u001b[0mk\u001b[0m \u001b[1;33m=\u001b[0m \u001b[0mself\u001b[0m\u001b[1;33m.\u001b[0m\u001b[0m_get_label_or_level_values\u001b[0m\u001b[1;33m(\u001b[0m\u001b[0mby\u001b[0m\u001b[1;33m,\u001b[0m \u001b[0maxis\u001b[0m\u001b[1;33m=\u001b[0m\u001b[0maxis\u001b[0m\u001b[1;33m)\u001b[0m\u001b[1;33m\u001b[0m\u001b[1;33m\u001b[0m\u001b[0m\n\u001b[0m\u001b[0;32m   6913\u001b[0m \u001b[1;33m\u001b[0m\u001b[0m\n\u001b[0;32m   6914\u001b[0m             \u001b[1;31m# need to rewrap column in Series to apply key function\u001b[0m\u001b[1;33m\u001b[0m\u001b[1;33m\u001b[0m\u001b[0m\n\u001b[0;32m   6915\u001b[0m             \u001b[1;32mif\u001b[0m \u001b[0mkey\u001b[0m \u001b[1;32mis\u001b[0m \u001b[1;32mnot\u001b[0m \u001b[1;32mNone\u001b[0m\u001b[1;33m:\u001b[0m\u001b[1;33m\u001b[0m\u001b[1;33m\u001b[0m\u001b[0m\n",
      "\u001b[1;32m~\\miniconda3\\envs\\myenv\\lib\\site-packages\\pandas\\core\\generic.py\u001b[0m in \u001b[0;36m?\u001b[1;34m(self, key, axis)\u001b[0m\n\u001b[0;32m   1846\u001b[0m                 \u001b[1;33m.\u001b[0m\u001b[0mget_level_values\u001b[0m\u001b[1;33m(\u001b[0m\u001b[0mkey\u001b[0m\u001b[1;33m)\u001b[0m  \u001b[1;31m# type: ignore[assignment]\u001b[0m\u001b[1;33m\u001b[0m\u001b[1;33m\u001b[0m\u001b[0m\n\u001b[0;32m   1847\u001b[0m                 \u001b[1;33m.\u001b[0m\u001b[0m_values\u001b[0m\u001b[1;33m\u001b[0m\u001b[1;33m\u001b[0m\u001b[0m\n\u001b[0;32m   1848\u001b[0m             )\n\u001b[0;32m   1849\u001b[0m         \u001b[1;32melse\u001b[0m\u001b[1;33m:\u001b[0m\u001b[1;33m\u001b[0m\u001b[1;33m\u001b[0m\u001b[0m\n\u001b[1;32m-> 1850\u001b[1;33m             \u001b[1;32mraise\u001b[0m \u001b[0mKeyError\u001b[0m\u001b[1;33m(\u001b[0m\u001b[0mkey\u001b[0m\u001b[1;33m)\u001b[0m\u001b[1;33m\u001b[0m\u001b[1;33m\u001b[0m\u001b[0m\n\u001b[0m\u001b[0;32m   1851\u001b[0m \u001b[1;33m\u001b[0m\u001b[0m\n\u001b[0;32m   1852\u001b[0m         \u001b[1;31m# Check for duplicates\u001b[0m\u001b[1;33m\u001b[0m\u001b[1;33m\u001b[0m\u001b[0m\n\u001b[0;32m   1853\u001b[0m         \u001b[1;32mif\u001b[0m \u001b[0mvalues\u001b[0m\u001b[1;33m.\u001b[0m\u001b[0mndim\u001b[0m \u001b[1;33m>\u001b[0m \u001b[1;36m1\u001b[0m\u001b[1;33m:\u001b[0m\u001b[1;33m\u001b[0m\u001b[1;33m\u001b[0m\u001b[0m\n",
      "\u001b[1;31mKeyError\u001b[0m: 'File Name'"
     ]
    }
   ],
   "source": [
    "# ----------------------------------------\n",
    "# 1) Imports\n",
    "# ----------------------------------------\n",
    "import numpy as np\n",
    "from combined_workflow_new import combined_workflow\n",
    "\n",
    "# ----------------------------------------\n",
    "# 2) Prepare your in-memory stacks\n",
    "#    (either shape (T, H, W) or (T, C, H, W))\n",
    "# ----------------------------------------\n",
    "image_arrays = {\n",
    "    'movieA': np.load('michaud_simulation.npy'),\n",
    "}\n",
    "\n",
    "# ----------------------------------------\n",
    "# 3) Supply acquisition metadata for each\n",
    "# ----------------------------------------\n",
    "image_metadata = {\n",
    "    'movieA': {\n",
    "        'pixel_size':     0.108,   # e.g. microns per pixel\n",
    "        'pixel_unit':     'µm',\n",
    "        'frame_interval': 0.05,    # seconds between frames\n",
    "    }\n",
    "}\n",
    "\n",
    "# ----------------------------------------\n",
    "# 4) Initialize your logging dict\n",
    "# ----------------------------------------\n",
    "log_params = {\n",
    "    'Pixel Size':         [],\n",
    "    'Frame Interval':     [],\n",
    "    'Files Not Processed': [],\n",
    "    'Errors':             [],\n",
    "    'Group Matching Errors':   [],\n",
    "}\n",
    "\n",
    "# ----------------------------------------\n",
    "# 5) Call the workflow\n",
    "# ----------------------------------------\n",
    "summary_df = combined_workflow(\n",
    "    folder_path='.',              # where figures & logs will be saved\n",
    "    group_names=[],               # no grouping; all files get group=None\n",
    "    log_params=log_params,\n",
    "    analysis_type='standard',     # or 'kymograph'\n",
    "    acf_peak_thresh=0.1,\n",
    "    plot_summary_ACFs=True,\n",
    "    plot_summary_CCFs=False,\n",
    "    plot_summary_peaks=False,\n",
    "    plot_indv_ACFs=False,\n",
    "    plot_indv_CCFs=False,\n",
    "    plot_indv_peaks=False,\n",
    "    calc_wave_speeds=False,\n",
    "    plot_wave_speeds=False,\n",
    "    box_size=20,\n",
    "    bin_shift=2,\n",
    "    line_width=None,\n",
    "    test=False,                   # set True to skip writing files\n",
    "    # ────────────────────────────────────\n",
    "    # keyword-only arguments:\n",
    "    image_arrays=image_arrays,\n",
    "    image_metadata=image_metadata,\n",
    ")\n",
    "\n",
    "# ----------------------------------------\n",
    "# 6) Inspect results\n",
    "# ----------------------------------------\n",
    "print(summary_df)\n",
    "# and your log_params has recorded what happened:\n",
    "import pandas as pd\n",
    "logs_df = pd.DataFrame({k: pd.Series(v) for k, v in log_params.items()})\n",
    "print(logs_df)\n"
   ]
  },
  {
   "cell_type": "code",
   "execution_count": 3,
   "id": "f6a458f2-aeff-4d5f-815a-8736918898e5",
   "metadata": {},
   "outputs": [
    {
     "ename": "SyntaxError",
     "evalue": "invalid syntax (88148717.py, line 1)",
     "output_type": "error",
     "traceback": [
      "\u001b[1;36m  Cell \u001b[1;32mIn[3], line 1\u001b[1;36m\u001b[0m\n\u001b[1;33m    python -c \"from combined_workflow_new import combined_workflow; print('Imported successfully')\"\u001b[0m\n\u001b[1;37m              ^\u001b[0m\n\u001b[1;31mSyntaxError\u001b[0m\u001b[1;31m:\u001b[0m invalid syntax\n"
     ]
    }
   ],
   "source": []
  },
  {
   "cell_type": "code",
   "execution_count": null,
   "id": "a6367ec9-3dad-40ee-8acc-0d9e504ed3c7",
   "metadata": {},
   "outputs": [],
   "source": []
  }
 ],
 "metadata": {
  "kernelspec": {
   "display_name": "Python 3 (ipykernel)",
   "language": "python",
   "name": "python3"
  },
  "language_info": {
   "codemirror_mode": {
    "name": "ipython",
    "version": 3
   },
   "file_extension": ".py",
   "mimetype": "text/x-python",
   "name": "python",
   "nbconvert_exporter": "python",
   "pygments_lexer": "ipython3",
   "version": "3.9.21"
  }
 },
 "nbformat": 4,
 "nbformat_minor": 5
}
