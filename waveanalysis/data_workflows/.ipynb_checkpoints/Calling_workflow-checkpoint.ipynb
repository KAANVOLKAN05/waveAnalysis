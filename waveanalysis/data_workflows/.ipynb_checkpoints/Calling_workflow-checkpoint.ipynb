{
 "cells": [
  {
   "cell_type": "code",
   "execution_count": 1,
   "id": "893242b9-263c-47e0-b1e2-5f7dabe0c38c",
   "metadata": {},
   "outputs": [
    {
     "ename": "ModuleNotFoundError",
     "evalue": "No module named 'combined_workflow_new'",
     "output_type": "error",
     "traceback": [
      "\u001b[1;31m---------------------------------------------------------------------------\u001b[0m",
      "\u001b[1;31mModuleNotFoundError\u001b[0m                       Traceback (most recent call last)",
      "Cell \u001b[1;32mIn[1], line 2\u001b[0m\n\u001b[0;32m      1\u001b[0m \u001b[38;5;28;01mimport\u001b[39;00m\u001b[38;5;250m \u001b[39m\u001b[38;5;21;01mnumpy\u001b[39;00m\u001b[38;5;250m \u001b[39m\u001b[38;5;28;01mas\u001b[39;00m\u001b[38;5;250m \u001b[39m\u001b[38;5;21;01mnp\u001b[39;00m\n\u001b[1;32m----> 2\u001b[0m \u001b[38;5;28;01mfrom\u001b[39;00m\u001b[38;5;250m \u001b[39m\u001b[38;5;21;01mcombined_workflow_new\u001b[39;00m\u001b[38;5;250m \u001b[39m\u001b[38;5;28;01mimport\u001b[39;00m combined_workflow\n\u001b[0;32m      4\u001b[0m \u001b[38;5;66;03m# 1) Prepare your in-memory data:\u001b[39;00m\n\u001b[0;32m      5\u001b[0m \u001b[38;5;66;03m#    Keys should be the “file_name” strings your groups/logs will refer to.\u001b[39;00m\n\u001b[0;32m      6\u001b[0m image_arrays \u001b[38;5;241m=\u001b[39m {\n\u001b[0;32m      7\u001b[0m     \u001b[38;5;124m'\u001b[39m\u001b[38;5;124mmovieA\u001b[39m\u001b[38;5;124m'\u001b[39m: np\u001b[38;5;241m.\u001b[39mload(\u001b[38;5;124m'\u001b[39m\u001b[38;5;124mmovieA_stack.npy\u001b[39m\u001b[38;5;124m'\u001b[39m),   \u001b[38;5;66;03m# shape (T, H, W) or (T, C, H, W)\u001b[39;00m\n\u001b[0;32m      8\u001b[0m     \u001b[38;5;124m'\u001b[39m\u001b[38;5;124mmovieB\u001b[39m\u001b[38;5;124m'\u001b[39m: np\u001b[38;5;241m.\u001b[39mload(\u001b[38;5;124m'\u001b[39m\u001b[38;5;124mmovieB_stack.npy\u001b[39m\u001b[38;5;124m'\u001b[39m),\n\u001b[0;32m      9\u001b[0m }\n",
      "\u001b[1;31mModuleNotFoundError\u001b[0m: No module named 'combined_workflow_new'"
     ]
    }
   ],
   "source": [
    "import numpy as np\n",
    "from combined_workflow_new import combined_workflow\n",
    "\n",
    "# 1) Prepare your in-memory data:\n",
    "#    Keys should be the “file_name” strings your groups/logs will refer to.\n",
    "image_arrays = {\n",
    "    'movieA': np.load('movieA_stack.npy'),   # shape (T, H, W) or (T, C, H, W)\n",
    "    'movieB': np.load('movieB_stack.npy'),\n",
    "}\n",
    "\n",
    "# 2) Metadata must supply at least pixel_size, pixel_unit, frame_interval\n",
    "image_metadata = {\n",
    "    'movieA': {\n",
    "        'pixel_size':    0.01,       # e.g. microns per pixel\n",
    "        'pixel_unit':    'µm',\n",
    "        'frame_interval': 0.01,       # seconds between frames\n",
    "    }\n",
    "}\n",
    "\n",
    "# 4) Call the workflow:\n",
    "summary_df = combined_workflow(\n",
    "    folder_path='michaud_simulation.npy',              # still used for where to save figures/logs\n",
    "    group_names=group_names,\n",
    "    log_params=log_params,\n",
    "    analysis_type='standard',     # or 'kymograph'\n",
    "    acf_peak_thresh=0.1,\n",
    "    plot_summary_ACFs=True,\n",
    "    plot_summary_CCFs=False,\n",
    "    plot_summary_peaks=False,\n",
    "    plot_indv_ACFs=False,\n",
    "    plot_indv_CCFs=False,\n",
    "    plot_indv_peaks=False,\n",
    "    calc_wave_speeds=False,\n",
    "    plot_wave_speeds=False,\n",
    "    box_size=20,\n",
    "    bin_shift=2,\n",
    "    line_width=None,\n",
    "    test=False,\n",
    "    image_arrays=image_arrays,\n",
    "    image_metadata=image_metadata\n",
    ")\n",
    "\n",
    "print(summary_df)\n"
   ]
  },
  {
   "cell_type": "code",
   "execution_count": null,
   "id": "3302da3a-d9f8-47b7-a4cd-209cb399aa35",
   "metadata": {},
   "outputs": [],
   "source": []
  }
 ],
 "metadata": {
  "kernelspec": {
   "display_name": "Python 3 (ipykernel)",
   "language": "python",
   "name": "python3"
  },
  "language_info": {
   "codemirror_mode": {
    "name": "ipython",
    "version": 3
   },
   "file_extension": ".py",
   "mimetype": "text/x-python",
   "name": "python",
   "nbconvert_exporter": "python",
   "pygments_lexer": "ipython3",
   "version": "3.9.21"
  }
 },
 "nbformat": 4,
 "nbformat_minor": 5
}
