{
 "cells": [
  {
   "cell_type": "code",
   "execution_count": 5,
   "id": "bbf91bac-875b-4840-9899-46f4f9f6acbb",
   "metadata": {},
   "outputs": [
    {
     "name": "stdout",
     "output_type": "stream",
     "text": [
      "Collecting imageio[ffmpeg]\n",
      "  Downloading imageio-2.37.0-py3-none-any.whl.metadata (5.2 kB)\n",
      "Requirement already satisfied: numpy in c:\\users\\kavol\\miniconda3\\envs\\myenv\\lib\\site-packages (from imageio[ffmpeg]) (1.25.0)\n",
      "Requirement already satisfied: pillow>=8.3.2 in c:\\users\\kavol\\miniconda3\\envs\\myenv\\lib\\site-packages (from imageio[ffmpeg]) (11.2.1)\n",
      "Collecting imageio-ffmpeg (from imageio[ffmpeg])\n",
      "  Downloading imageio_ffmpeg-0.6.0-py3-none-win_amd64.whl.metadata (1.5 kB)\n",
      "Requirement already satisfied: psutil in c:\\users\\kavol\\miniconda3\\envs\\myenv\\lib\\site-packages (from imageio[ffmpeg]) (7.0.0)\n",
      "Downloading imageio-2.37.0-py3-none-any.whl (315 kB)\n",
      "Downloading imageio_ffmpeg-0.6.0-py3-none-win_amd64.whl (31.2 MB)\n",
      "   ---------------------------------------- 0.0/31.2 MB ? eta -:--:--\n",
      "   ---------------------------------------- 0.0/31.2 MB ? eta -:--:--\n",
      "   ---------------------------------------- 0.3/31.2 MB ? eta -:--:--\n",
      "    --------------------------------------- 0.5/31.2 MB 1.4 MB/s eta 0:00:22\n",
      "   - -------------------------------------- 1.0/31.2 MB 1.4 MB/s eta 0:00:23\n",
      "   - -------------------------------------- 1.3/31.2 MB 1.4 MB/s eta 0:00:22\n",
      "   -- ------------------------------------- 1.8/31.2 MB 1.5 MB/s eta 0:00:20\n",
      "   -- ------------------------------------- 2.1/31.2 MB 1.6 MB/s eta 0:00:19\n",
      "   --- ------------------------------------ 2.6/31.2 MB 1.7 MB/s eta 0:00:17\n",
      "   ---- ----------------------------------- 3.1/31.2 MB 1.8 MB/s eta 0:00:16\n",
      "   ----- ---------------------------------- 3.9/31.2 MB 1.9 MB/s eta 0:00:15\n",
      "   ----- ---------------------------------- 4.5/31.2 MB 2.0 MB/s eta 0:00:14\n",
      "   ------ --------------------------------- 5.0/31.2 MB 2.1 MB/s eta 0:00:13\n",
      "   ------- -------------------------------- 5.8/31.2 MB 2.2 MB/s eta 0:00:12\n",
      "   -------- ------------------------------- 6.3/31.2 MB 2.2 MB/s eta 0:00:12\n",
      "   --------- ------------------------------ 7.1/31.2 MB 2.3 MB/s eta 0:00:11\n",
      "   ---------- ----------------------------- 7.9/31.2 MB 2.4 MB/s eta 0:00:10\n",
      "   ----------- ---------------------------- 8.7/31.2 MB 2.5 MB/s eta 0:00:10\n",
      "   ------------ --------------------------- 9.4/31.2 MB 2.6 MB/s eta 0:00:09\n",
      "   ------------- -------------------------- 10.2/31.2 MB 2.6 MB/s eta 0:00:09\n",
      "   -------------- ------------------------- 11.3/31.2 MB 2.7 MB/s eta 0:00:08\n",
      "   --------------- ------------------------ 12.1/31.2 MB 2.8 MB/s eta 0:00:07\n",
      "   ---------------- ----------------------- 13.1/31.2 MB 2.9 MB/s eta 0:00:07\n",
      "   ----------------- ---------------------- 13.9/31.2 MB 2.9 MB/s eta 0:00:06\n",
      "   ------------------- -------------------- 14.9/31.2 MB 3.0 MB/s eta 0:00:06\n",
      "   -------------------- ------------------- 16.0/31.2 MB 3.1 MB/s eta 0:00:05\n",
      "   ---------------------- ----------------- 17.3/31.2 MB 3.2 MB/s eta 0:00:05\n",
      "   ----------------------- ---------------- 18.4/31.2 MB 3.3 MB/s eta 0:00:04\n",
      "   ------------------------ --------------- 19.4/31.2 MB 3.3 MB/s eta 0:00:04\n",
      "   -------------------------- ------------- 20.4/31.2 MB 3.4 MB/s eta 0:00:04\n",
      "   --------------------------- ------------ 21.8/31.2 MB 3.5 MB/s eta 0:00:03\n",
      "   ----------------------------- ---------- 22.8/31.2 MB 3.5 MB/s eta 0:00:03\n",
      "   ------------------------------ --------- 24.1/31.2 MB 3.6 MB/s eta 0:00:02\n",
      "   -------------------------------- ------- 25.4/31.2 MB 3.7 MB/s eta 0:00:02\n",
      "   ---------------------------------- ----- 26.7/31.2 MB 3.8 MB/s eta 0:00:02\n",
      "   ----------------------------------- ---- 28.0/31.2 MB 3.8 MB/s eta 0:00:01\n",
      "   ------------------------------------- -- 29.1/31.2 MB 3.9 MB/s eta 0:00:01\n",
      "   -------------------------------------- - 30.1/31.2 MB 3.9 MB/s eta 0:00:01\n",
      "   ---------------------------------------  31.2/31.2 MB 3.9 MB/s eta 0:00:01\n",
      "   ---------------------------------------- 31.2/31.2 MB 3.9 MB/s eta 0:00:00\n",
      "Installing collected packages: imageio-ffmpeg, imageio\n",
      "\n",
      "   ---------------------------------------- 0/2 [imageio-ffmpeg]\n",
      "   ---------------------------------------- 0/2 [imageio-ffmpeg]\n",
      "   ---------------------------------------- 0/2 [imageio-ffmpeg]\n",
      "   ---------------------------------------- 0/2 [imageio-ffmpeg]\n",
      "   ---------------------------------------- 0/2 [imageio-ffmpeg]\n",
      "   ---------------------------------------- 0/2 [imageio-ffmpeg]\n",
      "   ---------------------------------------- 0/2 [imageio-ffmpeg]\n",
      "   ---------------------------------------- 0/2 [imageio-ffmpeg]\n",
      "   ---------------------------------------- 0/2 [imageio-ffmpeg]\n",
      "   -------------------- ------------------- 1/2 [imageio]\n",
      "   -------------------- ------------------- 1/2 [imageio]\n",
      "   -------------------- ------------------- 1/2 [imageio]\n",
      "   -------------------- ------------------- 1/2 [imageio]\n",
      "   -------------------- ------------------- 1/2 [imageio]\n",
      "   -------------------- ------------------- 1/2 [imageio]\n",
      "   -------------------- ------------------- 1/2 [imageio]\n",
      "   ---------------------------------------- 2/2 [imageio]\n",
      "\n",
      "Successfully installed imageio-2.37.0 imageio-ffmpeg-0.6.0\n",
      "Note: you may need to restart the kernel to use updated packages.\n"
     ]
    }
   ],
   "source": [
    "pip install \"imageio[ffmpeg]\""
   ]
  },
  {
   "cell_type": "code",
   "execution_count": 3,
   "id": "cd21f8fe-ab2d-48dc-87fd-38346ec5f13e",
   "metadata": {},
   "outputs": [
    {
     "name": "stdout",
     "output_type": "stream",
     "text": [
      "Collecting opencv-python\n",
      "  Downloading opencv_python-4.11.0.86-cp37-abi3-win_amd64.whl.metadata (20 kB)\n",
      "Requirement already satisfied: numpy>=1.17.0 in c:\\users\\kavol\\miniconda3\\envs\\myenv\\lib\\site-packages (from opencv-python) (1.25.0)\n",
      "Downloading opencv_python-4.11.0.86-cp37-abi3-win_amd64.whl (39.5 MB)\n",
      "   ---------------------------------------- 0.0/39.5 MB ? eta -:--:--\n",
      "   --- ------------------------------------ 3.7/39.5 MB 27.3 MB/s eta 0:00:02\n",
      "   ---------- ----------------------------- 10.2/39.5 MB 30.4 MB/s eta 0:00:01\n",
      "   ------------------- -------------------- 18.9/39.5 MB 34.0 MB/s eta 0:00:01\n",
      "   ---------------------------- ----------- 27.8/39.5 MB 35.2 MB/s eta 0:00:01\n",
      "   ------------------------------------- -- 36.7/39.5 MB 37.6 MB/s eta 0:00:01\n",
      "   ---------------------------------------- 39.5/39.5 MB 34.9 MB/s eta 0:00:00\n",
      "Installing collected packages: opencv-python\n",
      "Successfully installed opencv-python-4.11.0.86\n",
      "Note: you may need to restart the kernel to use updated packages.\n"
     ]
    }
   ],
   "source": [
    "pip install opencv-python\n"
   ]
  },
  {
   "cell_type": "code",
   "execution_count": 19,
   "id": "69cec734-3688-4016-b4f1-52d967ea203c",
   "metadata": {},
   "outputs": [
    {
     "name": "stdout",
     "output_type": "stream",
     "text": [
      "Done, wrote 20000 frames\n"
     ]
    }
   ],
   "source": [
    "import tifffile, cv2, numpy as np\n",
    "\n",
    "stack = tifffile.imread(\"output_stack.tif\")  # → (51,2,71,71)\n",
    "#T, C, H, W = stack.shape\n",
    "T, H, W = stack.shape\n",
    "\n",
    "# pick channel 0 only (if channel 1 is blank)\n",
    "#frames = stack[:, 0, :, :]\n",
    "frames = stack[:, :, :]\n",
    "\n",
    "\n",
    "# setup writer\n",
    "fourcc = cv2.VideoWriter_fourcc(*\"mp4v\")\n",
    "writer = cv2.VideoWriter(\"out2.mp4\", fourcc, 240, (W, H), True)\n",
    "\n",
    "for frame in frames:\n",
    "    # normalize full uint16 range → uint8\n",
    "    frame8 = cv2.normalize(frame, None, 0, 255, cv2.NORM_MINMAX).astype(np.uint8)\n",
    "    # gray → BGR\n",
    "    bgr = cv2.cvtColor(frame8, cv2.COLOR_GRAY2BGR)\n",
    "    writer.write(bgr)\n",
    "\n",
    "writer.release()\n",
    "print(\"Done, wrote\", len(frames), \"frames\")\n"
   ]
  },
  {
   "cell_type": "code",
   "execution_count": 4,
   "id": "84765c0b-f462-4b0c-8b70-fd9ff58e13c7",
   "metadata": {},
   "outputs": [],
   "source": [
    "import numpy as np\n",
    "import tifffile\n",
    "\n",
    "# suppose `stack` is your 3D array of shape (n_frames, H, W)\n",
    "# and of dtype uint8, uint16, float32, etc.\n",
    "stack = np.random.randint(0, 256, size=(20, 512, 512), dtype=np.uint8)\n",
    "\n",
    "# Write it out as a multi-page TIFF:\n",
    "tifffile.imwrite(\n",
    "    'output_stack.tif',\n",
    "    stack,\n",
    "    photometric='minisblack',   # for grayscale data\n",
    "    metadata=None               # or pass a dict for TIFF tags\n",
    ")"
   ]
  },
  {
   "cell_type": "code",
   "execution_count": 18,
   "id": "f4f636c2-4a50-4301-9e31-5e0ff1b59f11",
   "metadata": {},
   "outputs": [],
   "source": [
    "import numpy as np\n",
    "import tifffile\n",
    "\n",
    "# 1. Load your 3-D array from .npy\n",
    "#    Replace 'stack.npy' with the path to your .npy file.\n",
    "stack = np.load('michaud_simulation.npy')  \n",
    "# stack.shape should be (n_frames, height, width)\n",
    "\n",
    "# 2. (Optional) Check dtype—TIFF supports uint8, uint16, float32, etc.\n",
    "#    If you need to convert, e.g. to uint16:\n",
    "# stack = stack.astype(np.uint16)\n",
    "\n",
    "# 3. Write out as a multi-page TIFF\n",
    "tifffile.imwrite(\n",
    "    'output_stack.tif',\n",
    "    stack,\n",
    "    photometric='minisblack',  # grayscale interpretation\n",
    "    # imagej=True,             # uncomment if you need ImageJ–compatible hyperstack\n",
    "    # bigtiff=True,            # uncomment if file may exceed 4 GB\n",
    "    metadata=None              # or supply a dict of TIFF tags\n",
    ")\n"
   ]
  },
  {
   "cell_type": "code",
   "execution_count": null,
   "id": "039c5ea8-8448-47be-9cf4-11595b78307f",
   "metadata": {},
   "outputs": [],
   "source": []
  }
 ],
 "metadata": {
  "kernelspec": {
   "display_name": "Python 3 (ipykernel)",
   "language": "python",
   "name": "python3"
  },
  "language_info": {
   "codemirror_mode": {
    "name": "ipython",
    "version": 3
   },
   "file_extension": ".py",
   "mimetype": "text/x-python",
   "name": "python",
   "nbconvert_exporter": "python",
   "pygments_lexer": "ipython3",
   "version": "3.9.21"
  }
 },
 "nbformat": 4,
 "nbformat_minor": 5
}
