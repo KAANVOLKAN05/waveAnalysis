{
 "cells": [
  {
   "cell_type": "code",
   "execution_count": 29,
   "metadata": {},
   "outputs": [
    {
     "name": "stdout",
     "output_type": "stream",
     "text": [
      "[]\n"
     ]
    }
   ],
   "source": [
    "import napari\n",
    "import numpy as np\n",
    "\n",
    "image_path = '/Users/domchom/Documents/GitHub/ZS_wave_analysis/tests/assets/kymo/1_Group1.tif'\n",
    "\n",
    "def define_wave_tracks(file_path):\n",
    "    # asking the user to identify the ring of interest\n",
    "    filename = file_path.split('/')[-1]\n",
    "    viewer = napari.Viewer(title=f'Trace a polygon for {filename}. Press \"s\" to save and close the window')\n",
    "    viewer.open(file_path)\n",
    "\n",
    "    shapes_layer = viewer.add_shapes()#time saving to automatically create the shapes layer\n",
    "\n",
    "    @viewer.bind_key('s')\n",
    "    def save_and_close_ROIs(viewer):\n",
    "        # last_shape = viewer.layers['Shapes'].data\n",
    "\n",
    "        rois = []\n",
    "        for shape in viewer.layers['Shapes'].data[1:]:\n",
    "            rois.append(shape)\n",
    "\n",
    "        viewer.window.close()\n",
    "\n",
    "        return rois\n",
    "    \n",
    "    return save_and_close_ROIs(viewer) #return the polygon vertices coordinates\n",
    "\n",
    "def calc_wave_speeds(wave_tracks: np.array, pixel_size: float, frame_interval: float):\n",
    "    wave_speeds = []\n",
    "    for wave_track in wave_tracks:\n",
    "        # wave_speed = np.linalg.norm(wave_track[-1] - wave_track[0]) / (len(wave_track) * frame_interval)\n",
    "        x1, x2 = wave_track[0][1], wave_track[1][1]\n",
    "        y1, y2 = wave_track[0][0], wave_track[1][0]\n",
    "        wave_speed = abs(y2-y1 / x2-x1)\n",
    "        wave_speed = wave_speed * pixel_size[0] / frame_interval\n",
    "        wave_speeds.append(wave_speed)\n",
    "\n",
    "    return wave_speeds\n",
    "\n",
    "wave_tracks = define_wave_tracks(file_path=image_path)\n",
    "\n",
    "print(wave_tracks)"
   ]
  }
 ],
 "metadata": {
  "kernelspec": {
   "display_name": "waves",
   "language": "python",
   "name": "python3"
  },
  "language_info": {
   "codemirror_mode": {
    "name": "ipython",
    "version": 3
   },
   "file_extension": ".py",
   "mimetype": "text/x-python",
   "name": "python",
   "nbconvert_exporter": "python",
   "pygments_lexer": "ipython3",
   "version": "3.10.13"
  }
 },
 "nbformat": 4,
 "nbformat_minor": 2
}
